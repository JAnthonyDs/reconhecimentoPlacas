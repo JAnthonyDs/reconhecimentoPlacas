{
 "cells": [
  {
   "cell_type": "code",
   "execution_count": 25,
   "metadata": {},
   "outputs": [],
   "source": [
    "from ultralytics import YOLO\n",
    "import cv2\n",
    "import math\n",
    "import easyocr\n"
   ]
  },
  {
   "cell_type": "code",
   "execution_count": 19,
   "metadata": {},
   "outputs": [
    {
     "name": "stderr",
     "output_type": "stream",
     "text": [
      "Using CPU. Note: This module is much faster with a GPU.\n"
     ]
    }
   ],
   "source": [
    "license_plate_detector = YOLO('./models/license_plate_detector.pt')\n",
    "reader = easyocr.Reader(['en'], gpu=False)"
   ]
  },
  {
   "cell_type": "code",
   "execution_count": 30,
   "metadata": {},
   "outputs": [
    {
     "ename": "TypeError",
     "evalue": "'DetectionModel' object is not subscriptable",
     "output_type": "error",
     "traceback": [
      "\u001b[1;31m---------------------------------------------------------------------------\u001b[0m",
      "\u001b[1;31mTypeError\u001b[0m                                 Traceback (most recent call last)",
      "Cell \u001b[1;32mIn[30], line 1\u001b[0m\n\u001b[1;32m----> 1\u001b[0m camada_detecao \u001b[38;5;241m=\u001b[39m \u001b[43mlicense_plate_detector\u001b[49m\u001b[38;5;241;43m.\u001b[39;49m\u001b[43mmodel\u001b[49m\u001b[43m[\u001b[49m\u001b[38;5;241;43m-\u001b[39;49m\u001b[38;5;241;43m1\u001b[39;49m\u001b[43m]\u001b[49m\n",
      "\u001b[1;31mTypeError\u001b[0m: 'DetectionModel' object is not subscriptable"
     ]
    }
   ],
   "source": [
    "camada_detecao = license_plate_detector.model[-1]\n"
   ]
  },
  {
   "cell_type": "code",
   "execution_count": 20,
   "metadata": {},
   "outputs": [],
   "source": [
    "image = cv2.imread('./ImagesTest/placaCarro2.jpg')"
   ]
  },
  {
   "cell_type": "code",
   "execution_count": 21,
   "metadata": {},
   "outputs": [],
   "source": [
    "# image = cv2.resize(image, (1200, 742))"
   ]
  },
  {
   "cell_type": "code",
   "execution_count": 22,
   "metadata": {},
   "outputs": [
    {
     "name": "stdout",
     "output_type": "stream",
     "text": [
      "\n",
      "0: 480x640 2 License_Plates, 35.3ms\n",
      "Speed: 0.0ms preprocess, 35.3ms inference, 0.0ms postprocess per image at shape (1, 3, 480, 640)\n"
     ]
    }
   ],
   "source": [
    "results = license_plate_detector(image)"
   ]
  },
  {
   "cell_type": "code",
   "execution_count": 23,
   "metadata": {},
   "outputs": [
    {
     "data": {
      "text/plain": [
       "[ultralytics.engine.results.Results object with attributes:\n",
       " \n",
       " boxes: ultralytics.engine.results.Boxes object\n",
       " keypoints: None\n",
       " masks: None\n",
       " names: {0: 'License_Plate'}\n",
       " obb: None\n",
       " orig_img: array([[[210, 209, 199],\n",
       "         [210, 209, 199],\n",
       "         [210, 209, 199],\n",
       "         ...,\n",
       "         [172, 158, 164],\n",
       "         [172, 158, 164],\n",
       "         [172, 158, 164]],\n",
       " \n",
       "        [[210, 209, 199],\n",
       "         [210, 209, 199],\n",
       "         [210, 209, 199],\n",
       "         ...,\n",
       "         [172, 158, 164],\n",
       "         [172, 158, 164],\n",
       "         [172, 158, 164]],\n",
       " \n",
       "        [[210, 209, 199],\n",
       "         [210, 209, 199],\n",
       "         [210, 209, 199],\n",
       "         ...,\n",
       "         [172, 158, 164],\n",
       "         [172, 158, 164],\n",
       "         [172, 158, 164]],\n",
       " \n",
       "        ...,\n",
       " \n",
       "        [[ 39,  33,  34],\n",
       "         [ 39,  33,  34],\n",
       "         [ 40,  34,  35],\n",
       "         ...,\n",
       "         [ 17,  22,  20],\n",
       "         [ 17,  22,  20],\n",
       "         [ 17,  22,  20]],\n",
       " \n",
       "        [[ 39,  33,  34],\n",
       "         [ 39,  33,  34],\n",
       "         [ 40,  34,  35],\n",
       "         ...,\n",
       "         [ 15,  20,  18],\n",
       "         [ 15,  20,  18],\n",
       "         [ 15,  20,  18]],\n",
       " \n",
       "        [[ 39,  33,  34],\n",
       "         [ 39,  33,  34],\n",
       "         [ 40,  34,  35],\n",
       "         ...,\n",
       "         [ 16,  21,  19],\n",
       "         [ 16,  21,  19],\n",
       "         [ 16,  21,  19]]], dtype=uint8)\n",
       " orig_shape: (552, 736)\n",
       " path: 'image0.jpg'\n",
       " probs: None\n",
       " save_dir: 'runs\\\\detect\\\\predict'\n",
       " speed: {'preprocess': 0.0, 'inference': 35.295724868774414, 'postprocess': 0.0}]"
      ]
     },
     "execution_count": 23,
     "metadata": {},
     "output_type": "execute_result"
    }
   ],
   "source": [
    "results"
   ]
  },
  {
   "cell_type": "code",
   "execution_count": 24,
   "metadata": {},
   "outputs": [
    {
     "name": "stdout",
     "output_type": "stream",
     "text": [
      "Texto da placa: Rud3 TAZ\n"
     ]
    }
   ],
   "source": [
    "myColor = (0,255,0)\n",
    "\n",
    "for r in results:\n",
    "    boxes = r.boxes\n",
    "\n",
    "    for box in boxes:\n",
    "        x1, y1, x2, y2 = box.xyxy[0]\n",
    "        x1, y1, x2, y2 = int(x1), int(y1), int(x2), int(y2)\n",
    "\n",
    "        conf = math.ceil((box.conf[0] * 100)) / 100\n",
    "\n",
    "        cv2.rectangle(image, (x1, y1), (x2, y2), myColor, 3)\n",
    "\n",
    "        #recorte\n",
    "        plate_region = image[y1:y2, x1:x2]\n",
    "\n",
    "        plate_text = reader.readtext(plate_region)\n",
    "        \n",
    "       # Verificar se o texto foi detectado\n",
    "        if plate_text:\n",
    "            # Exibir o texto da placa\n",
    "            print(\"Texto da placa:\", plate_text[0][1]) \n",
    "\n",
    "cv2.imshow(\"Detecção de Placas\", image)\n",
    "cv2.waitKey(0)\n",
    "cv2.destroyAllWindows()"
   ]
  }
 ],
 "metadata": {
  "kernelspec": {
   "display_name": "Python 3",
   "language": "python",
   "name": "python3"
  },
  "language_info": {
   "codemirror_mode": {
    "name": "ipython",
    "version": 3
   },
   "file_extension": ".py",
   "mimetype": "text/x-python",
   "name": "python",
   "nbconvert_exporter": "python",
   "pygments_lexer": "ipython3",
   "version": "3.12.3"
  }
 },
 "nbformat": 4,
 "nbformat_minor": 2
}
