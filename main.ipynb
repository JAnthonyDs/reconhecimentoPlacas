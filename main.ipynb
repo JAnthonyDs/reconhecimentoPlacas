{
 "cells": [
  {
   "cell_type": "code",
   "execution_count": 81,
   "metadata": {},
   "outputs": [],
   "source": [
    "from ultralytics import YOLO\n",
    "import cv2\n",
    "import math\n",
    "import easyocr"
   ]
  },
  {
   "cell_type": "code",
   "execution_count": 82,
   "metadata": {},
   "outputs": [
    {
     "name": "stderr",
     "output_type": "stream",
     "text": [
      "Using CPU. Note: This module is much faster with a GPU.\n"
     ]
    }
   ],
   "source": [
    "license_plate_detector = YOLO('./models/license_plate_detector.pt')\n",
    "reader = easyocr.Reader(['en'], gpu=False)"
   ]
  },
  {
   "cell_type": "code",
   "execution_count": 83,
   "metadata": {},
   "outputs": [],
   "source": [
    "image = cv2.imread('./ImagesTest/placaUKCarro2.jpeg')"
   ]
  },
  {
   "cell_type": "code",
   "execution_count": 84,
   "metadata": {},
   "outputs": [],
   "source": [
    "image = cv2.resize(image, (1200, 742))"
   ]
  },
  {
   "cell_type": "code",
   "execution_count": 85,
   "metadata": {},
   "outputs": [
    {
     "name": "stdout",
     "output_type": "stream",
     "text": [
      "\n",
      "0: 416x640 1 License_Plate, 30.7ms\n",
      "Speed: 0.0ms preprocess, 30.7ms inference, 1.1ms postprocess per image at shape (1, 3, 416, 640)\n"
     ]
    }
   ],
   "source": [
    "results = license_plate_detector(image)"
   ]
  },
  {
   "cell_type": "code",
   "execution_count": 86,
   "metadata": {},
   "outputs": [
    {
     "data": {
      "text/plain": [
       "[ultralytics.engine.results.Results object with attributes:\n",
       " \n",
       " boxes: ultralytics.engine.results.Boxes object\n",
       " keypoints: None\n",
       " masks: None\n",
       " names: {0: 'License_Plate'}\n",
       " obb: None\n",
       " orig_img: array([[[127, 182, 189],\n",
       "         [127, 182, 189],\n",
       "         [137, 190, 196],\n",
       "         ...,\n",
       "         [183, 196, 202],\n",
       "         [195, 209, 215],\n",
       "         [195, 209, 215]],\n",
       " \n",
       "        [[127, 182, 189],\n",
       "         [127, 182, 189],\n",
       "         [137, 190, 196],\n",
       "         ...,\n",
       "         [183, 196, 202],\n",
       "         [195, 209, 215],\n",
       "         [195, 209, 215]],\n",
       " \n",
       "        [[126, 182, 189],\n",
       "         [126, 182, 189],\n",
       "         [137, 190, 196],\n",
       "         ...,\n",
       "         [182, 196, 201],\n",
       "         [194, 208, 214],\n",
       "         [194, 208, 214]],\n",
       " \n",
       "        ...,\n",
       " \n",
       "        [[152, 152, 152],\n",
       "         [152, 152, 152],\n",
       "         [152, 152, 152],\n",
       "         ...,\n",
       "         [156, 168, 172],\n",
       "         [156, 168, 172],\n",
       "         [156, 168, 172]],\n",
       " \n",
       "        [[152, 152, 152],\n",
       "         [152, 152, 152],\n",
       "         [153, 153, 153],\n",
       "         ...,\n",
       "         [156, 167, 172],\n",
       "         [156, 168, 172],\n",
       "         [156, 168, 172]],\n",
       " \n",
       "        [[152, 152, 152],\n",
       "         [152, 152, 152],\n",
       "         [153, 153, 153],\n",
       "         ...,\n",
       "         [155, 168, 172],\n",
       "         [156, 168, 172],\n",
       "         [156, 168, 172]]], dtype=uint8)\n",
       " orig_shape: (742, 1200)\n",
       " path: 'image0.jpg'\n",
       " probs: None\n",
       " save_dir: 'runs\\\\detect\\\\predict'\n",
       " speed: {'preprocess': 0.0, 'inference': 30.730009078979492, 'postprocess': 1.0802745819091797}]"
      ]
     },
     "execution_count": 86,
     "metadata": {},
     "output_type": "execute_result"
    }
   ],
   "source": [
    "results"
   ]
  },
  {
   "cell_type": "code",
   "execution_count": 87,
   "metadata": {},
   "outputs": [
    {
     "name": "stdout",
     "output_type": "stream",
     "text": [
      "Texto da placa: Piheid\n"
     ]
    }
   ],
   "source": [
    "myColor = (0,255,0)\n",
    "\n",
    "for r in results:\n",
    "    boxes = r.boxes\n",
    "\n",
    "    for box in boxes:\n",
    "        x1, y1, x2, y2 = box.xyxy[0]\n",
    "        x1, y1, x2, y2 = int(x1), int(y1), int(x2), int(y2)\n",
    "\n",
    "        conf = math.ceil((box.conf[0] * 100)) / 100\n",
    "\n",
    "        cv2.rectangle(image, (x1, y1), (x2, y2), myColor, 3)\n",
    "\n",
    "        #recorte\n",
    "        plate_region = image[y1:y2, x1:x2]\n",
    "\n",
    "        plate_text = reader.readtext(plate_region)\n",
    "        \n",
    "       # Verificar se o texto foi detectado\n",
    "        if plate_text:\n",
    "            # Exibir o texto da placa\n",
    "            print(\"Texto da placa:\", plate_text[0][1]) \n",
    "\n",
    "cv2.imshow(\"Detecção de Placas\", image)\n",
    "cv2.waitKey(0)\n",
    "cv2.destroyAllWindows()"
   ]
  }
 ],
 "metadata": {
  "kernelspec": {
   "display_name": "Python 3",
   "language": "python",
   "name": "python3"
  },
  "language_info": {
   "codemirror_mode": {
    "name": "ipython",
    "version": 3
   },
   "file_extension": ".py",
   "mimetype": "text/x-python",
   "name": "python",
   "nbconvert_exporter": "python",
   "pygments_lexer": "ipython3",
   "version": "3.12.3"
  }
 },
 "nbformat": 4,
 "nbformat_minor": 2
}
