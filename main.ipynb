{
 "cells": [
  {
   "cell_type": "code",
   "execution_count": 26,
   "metadata": {},
   "outputs": [],
   "source": [
    "from ultralytics import YOLO\n",
    "import cv2\n",
    "import math\n",
    "import easyocr  "
   ]
  },
  {
   "cell_type": "code",
   "execution_count": 27,
   "metadata": {},
   "outputs": [
    {
     "name": "stderr",
     "output_type": "stream",
     "text": [
      "Using CPU. Note: This module is much faster with a GPU.\n"
     ]
    }
   ],
   "source": [
    "license_plate_detector = YOLO('./models/license_plate_detector.pt')\n",
    "reader = easyocr.Reader(['en'], gpu=False)"
   ]
  },
  {
   "cell_type": "code",
   "execution_count": 28,
   "metadata": {},
   "outputs": [],
   "source": [
    "image = cv2.imread('./ImagesTest/placaCarro.jpg')"
   ]
  },
  {
   "cell_type": "code",
   "execution_count": 29,
   "metadata": {},
   "outputs": [],
   "source": [
    "image = cv2.resize(image, (1200, 742))"
   ]
  },
  {
   "cell_type": "code",
   "execution_count": 30,
   "metadata": {},
   "outputs": [
    {
     "name": "stdout",
     "output_type": "stream",
     "text": [
      "\n",
      "0: 416x640 1 License_Plate, 49.9ms\n",
      "Speed: 2.3ms preprocess, 49.9ms inference, 0.6ms postprocess per image at shape (1, 3, 416, 640)\n"
     ]
    }
   ],
   "source": [
    "results = license_plate_detector(image)"
   ]
  },
  {
   "cell_type": "code",
   "execution_count": 31,
   "metadata": {},
   "outputs": [
    {
     "data": {
      "text/plain": [
       "[ultralytics.engine.results.Results object with attributes:\n",
       " \n",
       " boxes: ultralytics.engine.results.Boxes object\n",
       " keypoints: None\n",
       " masks: None\n",
       " names: {0: 'License_Plate'}\n",
       " obb: None\n",
       " orig_img: array([[[164, 185, 200],\n",
       "         [166, 187, 202],\n",
       "         [166, 187, 202],\n",
       "         ...,\n",
       "         [105, 123, 130],\n",
       "         [172, 188, 200],\n",
       "         [140, 158, 169]],\n",
       " \n",
       "        [[165, 186, 201],\n",
       "         [167, 188, 203],\n",
       "         [165, 186, 201],\n",
       "         ...,\n",
       "         [115, 133, 140],\n",
       "         [181, 197, 209],\n",
       "         [147, 165, 176]],\n",
       " \n",
       "        [[166, 186, 203],\n",
       "         [169, 189, 206],\n",
       "         [169, 189, 206],\n",
       "         ...,\n",
       "         [121, 139, 146],\n",
       "         [181, 197, 209],\n",
       "         [146, 164, 175]],\n",
       " \n",
       "        ...,\n",
       " \n",
       "        [[ 72,  93, 108],\n",
       "         [ 32,  55,  70],\n",
       "         [ 23,  45,  63],\n",
       "         ...,\n",
       "         [131, 116,  90],\n",
       "         [149, 134, 108],\n",
       "         [157, 142, 116]],\n",
       " \n",
       "        [[ 76,  97, 112],\n",
       "         [ 13,  36,  51],\n",
       "         [ 48,  70,  88],\n",
       "         ...,\n",
       "         [145, 128, 101],\n",
       "         [152, 135, 108],\n",
       "         [150, 133, 106]],\n",
       " \n",
       "        [[ 51,  72,  87],\n",
       "         [ 60,  83,  98],\n",
       "         [ 63,  85, 103],\n",
       "         ...,\n",
       "         [143, 125,  96],\n",
       "         [148, 130, 101],\n",
       "         [145, 127,  98]]], dtype=uint8)\n",
       " orig_shape: (742, 1200)\n",
       " path: 'image0.jpg'\n",
       " probs: None\n",
       " save_dir: '/home/anthony-d/Documentos/reconhecimentoPlacas/runs/detect/predict'\n",
       " speed: {'preprocess': 2.300739288330078, 'inference': 49.866676330566406, 'postprocess': 0.5741119384765625}]"
      ]
     },
     "execution_count": 31,
     "metadata": {},
     "output_type": "execute_result"
    }
   ],
   "source": [
    "results"
   ]
  },
  {
   "cell_type": "code",
   "execution_count": 32,
   "metadata": {},
   "outputs": [
    {
     "name": "stdout",
     "output_type": "stream",
     "text": [
      "Texto da placa: SN66 XMZ\n"
     ]
    }
   ],
   "source": [
    "myColor = (0,255,0)\n",
    "\n",
    "for r in results:\n",
    "    boxes = r.boxes\n",
    "\n",
    "    for box in boxes:\n",
    "        x1, y1, x2, y2 = box.xyxy[0]\n",
    "        x1, y1, x2, y2 = int(x1), int(y1), int(x2), int(y2)\n",
    "\n",
    "        conf = math.ceil((box.conf[0] * 100)) / 100\n",
    "\n",
    "        cv2.rectangle(image, (x1, y1), (x2, y2), myColor, 3)\n",
    "\n",
    "        #recorte\n",
    "        plate_region = image[y1:y2, x1:x2]\n",
    "\n",
    "        plate_text = reader.readtext(plate_region)\n",
    "        \n",
    "       # Verificar se o texto foi detectado\n",
    "        if plate_text:\n",
    "            # Exibir o texto da placa\n",
    "            print(\"Texto da placa:\", plate_text[0][1]) \n",
    "\n",
    "# cv2.imshow(\"Detecção de Placas\", image)\n",
    "# cv2.waitKey(0)\n",
    "# cv2.destroyAllWindows()"
   ]
  }
 ],
 "metadata": {
  "kernelspec": {
   "display_name": "Python 3",
   "language": "python",
   "name": "python3"
  },
  "language_info": {
   "codemirror_mode": {
    "name": "ipython",
    "version": 3
   },
   "file_extension": ".py",
   "mimetype": "text/x-python",
   "name": "python",
   "nbconvert_exporter": "python",
   "pygments_lexer": "ipython3",
   "version": "3.12.3"
  }
 },
 "nbformat": 4,
 "nbformat_minor": 2
}
