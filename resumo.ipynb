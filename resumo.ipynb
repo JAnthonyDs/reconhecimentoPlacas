{
 "cells": [
  {
   "cell_type": "markdown",
   "metadata": {},
   "source": [
    "# Resumo"
   ]
  },
  {
   "cell_type": "markdown",
   "metadata": {},
   "source": [
    "O artigo propõe um sistema ALPR com foco em cenários de captura irrestrita, onde o LP pode ser consideravelmente \n",
    "distorcida devido a visualizações oblíquas.\n",
    "A principal contribuição é a introdução de uma nova Rede Neural Convulocional(CNN) capaz de detectar e retificar \n",
    "múltiplas placas distorcidas em um única imagem, que é alimentada por um sistema de reconhecimento ótico de caracteres.\n",
    "\n",
    "Contribuição adicional: apresentam anotações manuais para um conjunto desafiador de imagens LP de diferentes regiões e\n",
    "condições de aquisição."
   ]
  },
  {
   "cell_type": "markdown",
   "metadata": {},
   "source": [
    "ALPR = Automatic License Plate Recognition = reconhecimento automático de placas de veículos"
   ]
  },
  {
   "cell_type": "markdown",
   "metadata": {},
   "source": [
    "Uso de imagens sinteticamente distorcidas permitindo um treinamento usando menos de 200 imagens rotuladas manualmente."
   ]
  },
  {
   "cell_type": "markdown",
   "metadata": {},
   "source": [
    "### Abordagem para as LP brasileiros"
   ]
  },
  {
   "cell_type": "markdown",
   "metadata": {},
   "source": [
    "treinar novamente a sua rede de OCR usando um novo conjunto de treinamento composto por uma mistura de dados reais e gerados artificialmente usando tipos de fontes semelhantes as da região-alvo."
   ]
  },
  {
   "cell_type": "markdown",
   "metadata": {},
   "source": [
    "Como resultado, a rede retreinada tornou-se muito mais robusta para detecção e classificação de personagens reais no cenário original brasileiro, mas também para LPs europeus e taiwaneses, alcançando altíssima precisão e taxas de recall. "
   ]
  },
  {
   "cell_type": "markdown",
   "metadata": {},
   "source": [
    "Todos os dados anotados utilizados para este trabalho estão disponíveis publicamente\n",
    "e as imagens de referência podem ser obtidas baixando o Cars Dataset [16],\n",
    "o banco de dados SSIG [6] e o conjunto de dados AOLP [10]."
   ]
  },
  {
   "cell_type": "markdown",
   "metadata": {},
   "source": [
    "### Revisar abordagens relacionadas ao ALPR"
   ]
  },
  {
   "cell_type": "code",
   "execution_count": null,
   "metadata": {
    "vscode": {
     "languageId": "plaintext"
    }
   },
   "outputs": [],
   "source": [
    "ALPR é a tarefa de localizar e reconhecer placas em imagens"
   ]
  },
  {
   "cell_type": "markdown",
   "metadata": {},
   "source": [
    "Comumente dividida em 4 subtarefas que formam um pipeline sequencial:\n",
    "\n",
    "1 - detecção de veículos\n",
    "2 - detecção de placas\n",
    "3 - segmentação de caracteres\n",
    "4 - reconhecimentos de caracteres\n",
    "\n",
    "A combinação das duas últimas = OCR"
   ]
  },
  {
   "cell_type": "markdown",
   "metadata": {},
   "source": [
    "Obs: YOLO lutam para detectar objetos de pequeno porte, assim ainda mais são necessárias avaliações sobre cenários onde o carro está longe da câmera."
   ]
  },
  {
   "cell_type": "markdown",
   "metadata": {},
   "source": [
    "## O método proposto"
   ]
  },
  {
   "cell_type": "markdown",
   "metadata": {},
   "source": [
    "Dada uma imagem de entrada, o primeiro módulo detecta veículos na cena. Dentro de cada região de detecção a proposta\n",
    "Warped Planar Object Detection Network (WPOD-NET) procura LP e regride uma transformação afim por detecção, permitindo uma retificação da área LP em um retângulo semelhante a uma vista frontal. Estes positivos e retificados, as detecções são alimentadas em uma rede OCR para reconhecimento final de caracteres."
   ]
  },
  {
   "cell_type": "markdown",
   "metadata": {},
   "source": [
    "### Detecção de veículos"
   ]
  },
  {
   "cell_type": "markdown",
   "metadata": {},
   "source": []
  }
 ],
 "metadata": {
  "language_info": {
   "name": "python"
  }
 },
 "nbformat": 4,
 "nbformat_minor": 2
}
